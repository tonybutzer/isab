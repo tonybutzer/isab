{
 "cells": [
  {
   "cell_type": "code",
   "execution_count": 6,
   "id": "02a05ff7",
   "metadata": {},
   "outputs": [],
   "source": [
    "import sys\n",
    "\n",
    "sys.path.append('./mylib')\n",
    "\n",
    "from anim import *"
   ]
  },
  {
   "cell_type": "code",
   "execution_count": 7,
   "id": "0564307e",
   "metadata": {},
   "outputs": [],
   "source": [
    "aoi_filename = \"./siouxfalls2.geojson\"\n"
   ]
  },
  {
   "cell_type": "code",
   "execution_count": 8,
   "id": "71fd9fc9",
   "metadata": {},
   "outputs": [
    {
     "ename": "ImportError",
     "evalue": "the 'read_file' function requires the 'fiona' package, but it is not installed or does not import correctly.\nImporting fiona resulted in: No module named 'fiona'",
     "output_type": "error",
     "traceback": [
      "\u001b[0;31m---------------------------------------------------------------------------\u001b[0m",
      "\u001b[0;31mImportError\u001b[0m                               Traceback (most recent call last)",
      "\u001b[0;32m/tmp/ipykernel_5323/203194439.py\u001b[0m in \u001b[0;36m<module>\u001b[0;34m\u001b[0m\n\u001b[0;32m----> 1\u001b[0;31m \u001b[0mgeom\u001b[0m \u001b[0;34m=\u001b[0m \u001b[0mmake_geom\u001b[0m\u001b[0;34m(\u001b[0m\u001b[0maoi_filename\u001b[0m\u001b[0;34m)\u001b[0m\u001b[0;34m\u001b[0m\u001b[0;34m\u001b[0m\u001b[0m\n\u001b[0m",
      "\u001b[0;32m~/tony/isab/animation_domination/./mylib/anim.py\u001b[0m in \u001b[0;36mmake_geom\u001b[0;34m(aoi_filename)\u001b[0m\n\u001b[1;32m      4\u001b[0m \u001b[0;32mdef\u001b[0m \u001b[0mmake_geom\u001b[0m\u001b[0;34m(\u001b[0m\u001b[0maoi_filename\u001b[0m\u001b[0;34m)\u001b[0m\u001b[0;34m:\u001b[0m\u001b[0;34m\u001b[0m\u001b[0;34m\u001b[0m\u001b[0m\n\u001b[1;32m      5\u001b[0m     \u001b[0;31m# read in AOI as a GeoDataFrame\u001b[0m\u001b[0;34m\u001b[0m\u001b[0;34m\u001b[0m\u001b[0m\n\u001b[0;32m----> 6\u001b[0;31m     \u001b[0maoi\u001b[0m \u001b[0;34m=\u001b[0m \u001b[0mgpd\u001b[0m\u001b[0;34m.\u001b[0m\u001b[0mread_file\u001b[0m\u001b[0;34m(\u001b[0m\u001b[0maoi_filename\u001b[0m\u001b[0;34m)\u001b[0m\u001b[0;34m\u001b[0m\u001b[0;34m\u001b[0m\u001b[0m\n\u001b[0m\u001b[1;32m      7\u001b[0m \u001b[0;34m\u001b[0m\u001b[0m\n\u001b[1;32m      8\u001b[0m     \u001b[0;31m# get the geometry of the AOI as a dictionary for use with PySTAC Client\u001b[0m\u001b[0;34m\u001b[0m\u001b[0;34m\u001b[0m\u001b[0m\n",
      "\u001b[0;32m~/miniconda3/envs/cole/lib/python3.9/site-packages/geopandas/io/file.py\u001b[0m in \u001b[0;36m_read_file\u001b[0;34m(filename, bbox, mask, rows, **kwargs)\u001b[0m\n\u001b[1;32m    164\u001b[0m     \u001b[0mby\u001b[0m \u001b[0musing\u001b[0m \u001b[0mthe\u001b[0m \u001b[0mencoding\u001b[0m \u001b[0mkeyword\u001b[0m \u001b[0mparameter\u001b[0m\u001b[0;34m,\u001b[0m \u001b[0me\u001b[0m\u001b[0;34m.\u001b[0m\u001b[0mg\u001b[0m\u001b[0;34m.\u001b[0m\u001b[0;31m \u001b[0m\u001b[0;31m`\u001b[0m\u001b[0;31m`\u001b[0m\u001b[0mencoding\u001b[0m\u001b[0;34m=\u001b[0m\u001b[0;34m'utf-8'\u001b[0m\u001b[0;31m`\u001b[0m\u001b[0;31m`\u001b[0m\u001b[0;34m.\u001b[0m\u001b[0;34m\u001b[0m\u001b[0;34m\u001b[0m\u001b[0m\n\u001b[1;32m    165\u001b[0m     \"\"\"\n\u001b[0;32m--> 166\u001b[0;31m     \u001b[0m_check_fiona\u001b[0m\u001b[0;34m(\u001b[0m\u001b[0;34m\"'read_file' function\"\u001b[0m\u001b[0;34m)\u001b[0m\u001b[0;34m\u001b[0m\u001b[0;34m\u001b[0m\u001b[0m\n\u001b[0m\u001b[1;32m    167\u001b[0m     \u001b[0mfilename\u001b[0m \u001b[0;34m=\u001b[0m \u001b[0m_expand_user\u001b[0m\u001b[0;34m(\u001b[0m\u001b[0mfilename\u001b[0m\u001b[0;34m)\u001b[0m\u001b[0;34m\u001b[0m\u001b[0;34m\u001b[0m\u001b[0m\n\u001b[1;32m    168\u001b[0m \u001b[0;34m\u001b[0m\u001b[0m\n",
      "\u001b[0;32m~/miniconda3/envs/cole/lib/python3.9/site-packages/geopandas/io/file.py\u001b[0m in \u001b[0;36m_check_fiona\u001b[0;34m(func)\u001b[0m\n\u001b[1;32m     78\u001b[0m \u001b[0;32mdef\u001b[0m \u001b[0m_check_fiona\u001b[0m\u001b[0;34m(\u001b[0m\u001b[0mfunc\u001b[0m\u001b[0;34m)\u001b[0m\u001b[0;34m:\u001b[0m\u001b[0;34m\u001b[0m\u001b[0;34m\u001b[0m\u001b[0m\n\u001b[1;32m     79\u001b[0m     \u001b[0;32mif\u001b[0m \u001b[0mfiona\u001b[0m \u001b[0;32mis\u001b[0m \u001b[0;32mNone\u001b[0m\u001b[0;34m:\u001b[0m\u001b[0;34m\u001b[0m\u001b[0;34m\u001b[0m\u001b[0m\n\u001b[0;32m---> 80\u001b[0;31m         raise ImportError(\n\u001b[0m\u001b[1;32m     81\u001b[0m             \u001b[0;34mf\"the {func} requires the 'fiona' package, but it is not installed or does \"\u001b[0m\u001b[0;34m\u001b[0m\u001b[0;34m\u001b[0m\u001b[0m\n\u001b[1;32m     82\u001b[0m             \u001b[0;34mf\"not import correctly.\\nImporting fiona resulted in: {fiona_import_error}\"\u001b[0m\u001b[0;34m\u001b[0m\u001b[0;34m\u001b[0m\u001b[0m\n",
      "\u001b[0;31mImportError\u001b[0m: the 'read_file' function requires the 'fiona' package, but it is not installed or does not import correctly.\nImporting fiona resulted in: No module named 'fiona'"
     ]
    }
   ],
   "source": [
    "geom = make_geom(aoi_filename)"
   ]
  },
  {
   "cell_type": "code",
   "execution_count": null,
   "id": "fde069c1",
   "metadata": {},
   "outputs": [],
   "source": [
    "exit(0)"
   ]
  },
  {
   "cell_type": "code",
   "execution_count": null,
   "id": "f850bbb6",
   "metadata": {},
   "outputs": [],
   "source": [
    "%%time\n",
    "make_netcdf(aoi_filename)"
   ]
  },
  {
   "cell_type": "code",
   "execution_count": null,
   "id": "00e06765",
   "metadata": {},
   "outputs": [],
   "source": []
  },
  {
   "cell_type": "code",
   "execution_count": null,
   "id": "bbb7c342",
   "metadata": {},
   "outputs": [],
   "source": [
    "#! conda install -y pystac-client"
   ]
  },
  {
   "cell_type": "code",
   "execution_count": null,
   "id": "76f70d69",
   "metadata": {},
   "outputs": [],
   "source": [
    "!ls -lh"
   ]
  },
  {
   "cell_type": "code",
   "execution_count": null,
   "id": "a2061d0e",
   "metadata": {},
   "outputs": [],
   "source": [
    "%%time\n",
    "myname=aoi_filename.replace('.geojson','')\n",
    "make_animation(myname)"
   ]
  },
  {
   "cell_type": "code",
   "execution_count": null,
   "id": "134edd31",
   "metadata": {},
   "outputs": [],
   "source": [
    "#! wget https://raw.githubusercontent.com/tonybutzer/data-curation/79323ea534ccce76bd8026454a013fb436395c6a/little-cloud/lib/notebookLib/notebookLib/nb_animate.py"
   ]
  },
  {
   "cell_type": "code",
   "execution_count": null,
   "id": "25016892",
   "metadata": {},
   "outputs": [],
   "source": [
    "#! mv nb_animate.py ./lib\n"
   ]
  },
  {
   "cell_type": "code",
   "execution_count": null,
   "id": "e498fdfd",
   "metadata": {},
   "outputs": [],
   "source": [
    "mygif = f'{myname}.gif'\n",
    "mygif"
   ]
  },
  {
   "cell_type": "code",
   "execution_count": null,
   "id": "dce6437f",
   "metadata": {},
   "outputs": [],
   "source": [
    "!ls"
   ]
  },
  {
   "cell_type": "code",
   "execution_count": null,
   "id": "b269c70f",
   "metadata": {},
   "outputs": [],
   "source": [
    "from IPython.display import Image\n",
    "Image(filename=mygif)"
   ]
  },
  {
   "cell_type": "code",
   "execution_count": null,
   "id": "79f70e48",
   "metadata": {},
   "outputs": [],
   "source": [
    "#! jupyter nbextension enable --py jupyter-resource-usage --sys-prefix"
   ]
  },
  {
   "cell_type": "code",
   "execution_count": null,
   "id": "9fe8da90",
   "metadata": {},
   "outputs": [],
   "source": [
    "#!conda install -y -c conda-forge jupyter-resource-usage"
   ]
  },
  {
   "cell_type": "code",
   "execution_count": null,
   "id": "2a9ac265",
   "metadata": {},
   "outputs": [],
   "source": [
    "! date"
   ]
  }
 ],
 "metadata": {
  "kernelspec": {
   "display_name": "Python 3 (ipykernel)",
   "language": "python",
   "name": "python3"
  },
  "language_info": {
   "codemirror_mode": {
    "name": "ipython",
    "version": 3
   },
   "file_extension": ".py",
   "mimetype": "text/x-python",
   "name": "python",
   "nbconvert_exporter": "python",
   "pygments_lexer": "ipython3",
   "version": "3.9.7"
  }
 },
 "nbformat": 4,
 "nbformat_minor": 5
}
