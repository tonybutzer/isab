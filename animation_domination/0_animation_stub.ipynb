{
 "cells": [
  {
   "cell_type": "code",
   "execution_count": 1,
   "id": "02a05ff7",
   "metadata": {},
   "outputs": [],
   "source": [
    "import sys\n",
    "\n",
    "sys.path.append('./mylib')\n",
    "\n",
    "from anim import *"
   ]
  },
  {
   "cell_type": "code",
   "execution_count": 2,
   "id": "0564307e",
   "metadata": {},
   "outputs": [],
   "source": [
    "aoi_filename = \"./siouxfalls2.geojson\"\n"
   ]
  },
  {
   "cell_type": "code",
   "execution_count": 3,
   "id": "3a0100b0",
   "metadata": {},
   "outputs": [],
   "source": [
    "#conda list fiona"
   ]
  },
  {
   "cell_type": "code",
   "execution_count": 4,
   "id": "71fd9fc9",
   "metadata": {},
   "outputs": [],
   "source": [
    "geom = make_geom(aoi_filename)"
   ]
  },
  {
   "cell_type": "code",
   "execution_count": 5,
   "id": "fde069c1",
   "metadata": {},
   "outputs": [
    {
     "data": {
      "text/plain": [
       "{'type': 'Polygon',\n",
       " 'coordinates': (((-96.84173583984374, 43.44045602777552),\n",
       "   (-96.62818908691406, 43.44045602777552),\n",
       "   (-96.62818908691406, 43.618182252818265),\n",
       "   (-96.84173583984374, 43.618182252818265),\n",
       "   (-96.84173583984374, 43.44045602777552)),)}"
      ]
     },
     "execution_count": 5,
     "metadata": {},
     "output_type": "execute_result"
    }
   ],
   "source": [
    "geom"
   ]
  },
  {
   "cell_type": "code",
   "execution_count": 6,
   "id": "cf8c3b92",
   "metadata": {},
   "outputs": [
    {
     "data": {
      "text/plain": [
       "'0.3.0'"
      ]
     },
     "execution_count": 6,
     "metadata": {},
     "output_type": "execute_result"
    }
   ],
   "source": [
    "import pystac_client\n",
    "pystac_client.__path__\n",
    "pystac_client.__version__"
   ]
  },
  {
   "cell_type": "code",
   "execution_count": 7,
   "id": "7ad7e276",
   "metadata": {},
   "outputs": [
    {
     "name": "stdout",
     "output_type": "stream",
     "text": [
      "69 scenes found\n",
      "0\n",
      "1\n",
      "100\n",
      "2\n",
      "3\n",
      "100\n",
      "4\n",
      "5\n",
      "6\n",
      "100\n",
      "7\n",
      "8\n",
      "100\n",
      "9\n",
      "10\n",
      "11\n",
      "100\n",
      "12\n",
      "13\n",
      "100\n",
      "14\n",
      "15\n",
      "16\n",
      "100\n",
      "17\n",
      "100\n",
      "18\n",
      "19\n",
      "100\n",
      "20\n",
      "100\n",
      "21\n",
      "100\n",
      "22\n",
      "23\n",
      "100\n",
      "24\n",
      "100\n",
      "25\n",
      "100\n",
      "26\n",
      "100\n",
      "27\n",
      "100\n",
      "28\n",
      "100\n",
      "29\n",
      "30\n",
      "100\n",
      "31\n",
      "32\n",
      "100\n",
      "33\n",
      "34\n",
      "35\n",
      "100\n",
      "36\n",
      "37\n",
      "100\n",
      "38\n",
      "100\n",
      "39\n",
      "100\n",
      "40\n",
      "41\n",
      "42\n",
      "100\n",
      "43\n",
      "44\n",
      "100\n",
      "45\n",
      "46\n",
      "100\n",
      "47\n",
      "100\n",
      "48\n",
      "49\n",
      "50\n",
      "100\n",
      "51\n",
      "100\n",
      "52\n",
      "53\n",
      "96.17\n",
      "54\n",
      "100\n",
      "55\n",
      "56\n",
      "100\n",
      "57\n",
      "58\n",
      "59\n",
      "60\n",
      "100\n",
      "61\n",
      "100\n",
      "62\n",
      "63\n",
      "100\n",
      "64\n",
      "100\n",
      "65\n",
      "100\n",
      "66\n",
      "67\n",
      "100\n",
      "68\n"
     ]
    }
   ],
   "source": [
    "items = get_stac_records(geom)"
   ]
  },
  {
   "cell_type": "code",
   "execution_count": 8,
   "id": "21f321b2",
   "metadata": {},
   "outputs": [
    {
     "data": {
      "text/plain": [
       "list"
      ]
     },
     "execution_count": 8,
     "metadata": {},
     "output_type": "execute_result"
    }
   ],
   "source": [
    "type (items)"
   ]
  },
  {
   "cell_type": "code",
   "execution_count": 18,
   "id": "c83ac062",
   "metadata": {},
   "outputs": [
    {
     "data": {
      "text/plain": [
       "{'type': 'Feature',\n",
       " 'stac_version': '1.0.0-beta.2',\n",
       " 'stac_extensions': ['eo', 'view', 'proj'],\n",
       " 'id': 'S2B_14TPP_20211123_0_L2A',\n",
       " 'bbox': [-97.76795480089262,\n",
       "  43.23561023331162,\n",
       "  -96.37336693317773,\n",
       "  44.24654179621102],\n",
       " 'geometry': {'type': 'Polygon',\n",
       "  'coordinates': [[[-96.4162036434115, 43.23561023331162],\n",
       "    [-97.76795480089262, 43.25816418854885],\n",
       "    [-97.74750679696768, 44.24654179621102],\n",
       "    [-96.37336693317773, 44.223201034059365],\n",
       "    [-96.4162036434115, 43.23561023331162]]]},\n",
       " 'properties': {'datetime': '2021-11-23T17:31:39Z',\n",
       "  'platform': 'sentinel-2b',\n",
       "  'constellation': 'sentinel-2',\n",
       "  'instruments': ['msi'],\n",
       "  'gsd': 10,\n",
       "  'view:off_nadir': 0,\n",
       "  'proj:epsg': 32614,\n",
       "  'sentinel:utm_zone': 14,\n",
       "  'sentinel:latitude_band': 'T',\n",
       "  'sentinel:grid_square': 'PP',\n",
       "  'sentinel:sequence': '0',\n",
       "  'sentinel:product_id': 'S2B_MSIL2A_20211123T172639_N0301_R012_T14TPP_20211123T201458',\n",
       "  'sentinel:data_coverage': 100,\n",
       "  'eo:cloud_cover': 2.3,\n",
       "  'sentinel:valid_cloud_cover': True,\n",
       "  'created': '2021-11-23T23:35:35.154Z',\n",
       "  'updated': '2021-11-23T23:35:35.154Z'},\n",
       " 'collection': 'sentinel-s2-l2a-cogs',\n",
       " 'assets': {'thumbnail': {'title': 'Thumbnail',\n",
       "   'type': 'image/png',\n",
       "   'roles': ['thumbnail'],\n",
       "   'href': 'https://roda.sentinel-hub.com/sentinel-s2-l1c/tiles/14/T/PP/2021/11/23/0/preview.jpg'},\n",
       "  'overview': {'title': 'True color image',\n",
       "   'type': 'image/tiff; application=geotiff; profile=cloud-optimized',\n",
       "   'roles': ['overview'],\n",
       "   'gsd': 10,\n",
       "   'eo:bands': [{'name': 'B04',\n",
       "     'common_name': 'red',\n",
       "     'center_wavelength': 0.6645,\n",
       "     'full_width_half_max': 0.038},\n",
       "    {'name': 'B03',\n",
       "     'common_name': 'green',\n",
       "     'center_wavelength': 0.56,\n",
       "     'full_width_half_max': 0.045},\n",
       "    {'name': 'B02',\n",
       "     'common_name': 'blue',\n",
       "     'center_wavelength': 0.4966,\n",
       "     'full_width_half_max': 0.098}],\n",
       "   'href': 'https://sentinel-cogs.s3.us-west-2.amazonaws.com/sentinel-s2-l2a-cogs/14/T/PP/2021/11/S2B_14TPP_20211123_0_L2A/L2A_PVI.tif',\n",
       "   'proj:shape': [343, 343],\n",
       "   'proj:transform': [320, 0, 600000, 0, -320, 4900020, 0, 0, 1]},\n",
       "  'info': {'title': 'Original JSON metadata',\n",
       "   'type': 'application/json',\n",
       "   'roles': ['metadata'],\n",
       "   'href': 'https://roda.sentinel-hub.com/sentinel-s2-l2a/tiles/14/T/PP/2021/11/23/0/tileInfo.json'},\n",
       "  'metadata': {'title': 'Original XML metadata',\n",
       "   'type': 'application/xml',\n",
       "   'roles': ['metadata'],\n",
       "   'href': 'https://roda.sentinel-hub.com/sentinel-s2-l2a/tiles/14/T/PP/2021/11/23/0/metadata.xml'},\n",
       "  'visual': {'title': 'True color image',\n",
       "   'type': 'image/tiff; application=geotiff; profile=cloud-optimized',\n",
       "   'roles': ['overview'],\n",
       "   'gsd': 10,\n",
       "   'eo:bands': [{'name': 'B04',\n",
       "     'common_name': 'red',\n",
       "     'center_wavelength': 0.6645,\n",
       "     'full_width_half_max': 0.038},\n",
       "    {'name': 'B03',\n",
       "     'common_name': 'green',\n",
       "     'center_wavelength': 0.56,\n",
       "     'full_width_half_max': 0.045},\n",
       "    {'name': 'B02',\n",
       "     'common_name': 'blue',\n",
       "     'center_wavelength': 0.4966,\n",
       "     'full_width_half_max': 0.098}],\n",
       "   'href': 'https://sentinel-cogs.s3.us-west-2.amazonaws.com/sentinel-s2-l2a-cogs/14/T/PP/2021/11/S2B_14TPP_20211123_0_L2A/TCI.tif',\n",
       "   'proj:shape': [10980, 10980],\n",
       "   'proj:transform': [10, 0, 600000, 0, -10, 4900020, 0, 0, 1]},\n",
       "  'B01': {'title': 'Band 1 (coastal)',\n",
       "   'type': 'image/tiff; application=geotiff; profile=cloud-optimized',\n",
       "   'roles': ['data'],\n",
       "   'gsd': 60,\n",
       "   'eo:bands': [{'name': 'B01',\n",
       "     'common_name': 'coastal',\n",
       "     'center_wavelength': 0.4439,\n",
       "     'full_width_half_max': 0.027}],\n",
       "   'href': 'https://sentinel-cogs.s3.us-west-2.amazonaws.com/sentinel-s2-l2a-cogs/14/T/PP/2021/11/S2B_14TPP_20211123_0_L2A/B01.tif',\n",
       "   'proj:shape': [1830, 1830],\n",
       "   'proj:transform': [60, 0, 600000, 0, -60, 4900020, 0, 0, 1]},\n",
       "  'B02': {'title': 'Band 2 (blue)',\n",
       "   'type': 'image/tiff; application=geotiff; profile=cloud-optimized',\n",
       "   'roles': ['data'],\n",
       "   'gsd': 10,\n",
       "   'eo:bands': [{'name': 'B02',\n",
       "     'common_name': 'blue',\n",
       "     'center_wavelength': 0.4966,\n",
       "     'full_width_half_max': 0.098}],\n",
       "   'href': 'https://sentinel-cogs.s3.us-west-2.amazonaws.com/sentinel-s2-l2a-cogs/14/T/PP/2021/11/S2B_14TPP_20211123_0_L2A/B02.tif',\n",
       "   'proj:shape': [10980, 10980],\n",
       "   'proj:transform': [10, 0, 600000, 0, -10, 4900020, 0, 0, 1]},\n",
       "  'B03': {'title': 'Band 3 (green)',\n",
       "   'type': 'image/tiff; application=geotiff; profile=cloud-optimized',\n",
       "   'roles': ['data'],\n",
       "   'gsd': 10,\n",
       "   'eo:bands': [{'name': 'B03',\n",
       "     'common_name': 'green',\n",
       "     'center_wavelength': 0.56,\n",
       "     'full_width_half_max': 0.045}],\n",
       "   'href': 'https://sentinel-cogs.s3.us-west-2.amazonaws.com/sentinel-s2-l2a-cogs/14/T/PP/2021/11/S2B_14TPP_20211123_0_L2A/B03.tif',\n",
       "   'proj:shape': [10980, 10980],\n",
       "   'proj:transform': [10, 0, 600000, 0, -10, 4900020, 0, 0, 1]},\n",
       "  'B04': {'title': 'Band 4 (red)',\n",
       "   'type': 'image/tiff; application=geotiff; profile=cloud-optimized',\n",
       "   'roles': ['data'],\n",
       "   'gsd': 10,\n",
       "   'eo:bands': [{'name': 'B04',\n",
       "     'common_name': 'red',\n",
       "     'center_wavelength': 0.6645,\n",
       "     'full_width_half_max': 0.038}],\n",
       "   'href': 'https://sentinel-cogs.s3.us-west-2.amazonaws.com/sentinel-s2-l2a-cogs/14/T/PP/2021/11/S2B_14TPP_20211123_0_L2A/B04.tif',\n",
       "   'proj:shape': [10980, 10980],\n",
       "   'proj:transform': [10, 0, 600000, 0, -10, 4900020, 0, 0, 1]},\n",
       "  'B05': {'title': 'Band 5',\n",
       "   'type': 'image/tiff; application=geotiff; profile=cloud-optimized',\n",
       "   'roles': ['data'],\n",
       "   'gsd': 20,\n",
       "   'eo:bands': [{'name': 'B05',\n",
       "     'center_wavelength': 0.7039,\n",
       "     'full_width_half_max': 0.019}],\n",
       "   'href': 'https://sentinel-cogs.s3.us-west-2.amazonaws.com/sentinel-s2-l2a-cogs/14/T/PP/2021/11/S2B_14TPP_20211123_0_L2A/B05.tif',\n",
       "   'proj:shape': [5490, 5490],\n",
       "   'proj:transform': [20, 0, 600000, 0, -20, 4900020, 0, 0, 1]},\n",
       "  'B06': {'title': 'Band 6',\n",
       "   'type': 'image/tiff; application=geotiff; profile=cloud-optimized',\n",
       "   'roles': ['data'],\n",
       "   'gsd': 20,\n",
       "   'eo:bands': [{'name': 'B06',\n",
       "     'center_wavelength': 0.7402,\n",
       "     'full_width_half_max': 0.018}],\n",
       "   'href': 'https://sentinel-cogs.s3.us-west-2.amazonaws.com/sentinel-s2-l2a-cogs/14/T/PP/2021/11/S2B_14TPP_20211123_0_L2A/B06.tif',\n",
       "   'proj:shape': [5490, 5490],\n",
       "   'proj:transform': [20, 0, 600000, 0, -20, 4900020, 0, 0, 1]},\n",
       "  'B07': {'title': 'Band 7',\n",
       "   'type': 'image/tiff; application=geotiff; profile=cloud-optimized',\n",
       "   'roles': ['data'],\n",
       "   'gsd': 20,\n",
       "   'eo:bands': [{'name': 'B07',\n",
       "     'center_wavelength': 0.7825,\n",
       "     'full_width_half_max': 0.028}],\n",
       "   'href': 'https://sentinel-cogs.s3.us-west-2.amazonaws.com/sentinel-s2-l2a-cogs/14/T/PP/2021/11/S2B_14TPP_20211123_0_L2A/B07.tif',\n",
       "   'proj:shape': [5490, 5490],\n",
       "   'proj:transform': [20, 0, 600000, 0, -20, 4900020, 0, 0, 1]},\n",
       "  'B08': {'title': 'Band 8 (nir)',\n",
       "   'type': 'image/tiff; application=geotiff; profile=cloud-optimized',\n",
       "   'roles': ['data'],\n",
       "   'gsd': 10,\n",
       "   'eo:bands': [{'name': 'B08',\n",
       "     'common_name': 'nir',\n",
       "     'center_wavelength': 0.8351,\n",
       "     'full_width_half_max': 0.145}],\n",
       "   'href': 'https://sentinel-cogs.s3.us-west-2.amazonaws.com/sentinel-s2-l2a-cogs/14/T/PP/2021/11/S2B_14TPP_20211123_0_L2A/B08.tif',\n",
       "   'proj:shape': [10980, 10980],\n",
       "   'proj:transform': [10, 0, 600000, 0, -10, 4900020, 0, 0, 1]},\n",
       "  'B8A': {'title': 'Band 8A',\n",
       "   'type': 'image/tiff; application=geotiff; profile=cloud-optimized',\n",
       "   'roles': ['data'],\n",
       "   'gsd': 20,\n",
       "   'eo:bands': [{'name': 'B8A',\n",
       "     'center_wavelength': 0.8648,\n",
       "     'full_width_half_max': 0.033}],\n",
       "   'href': 'https://sentinel-cogs.s3.us-west-2.amazonaws.com/sentinel-s2-l2a-cogs/14/T/PP/2021/11/S2B_14TPP_20211123_0_L2A/B8A.tif',\n",
       "   'proj:shape': [5490, 5490],\n",
       "   'proj:transform': [20, 0, 600000, 0, -20, 4900020, 0, 0, 1]},\n",
       "  'B09': {'title': 'Band 9',\n",
       "   'type': 'image/tiff; application=geotiff; profile=cloud-optimized',\n",
       "   'roles': ['data'],\n",
       "   'gsd': 60,\n",
       "   'eo:bands': [{'name': 'B09',\n",
       "     'center_wavelength': 0.945,\n",
       "     'full_width_half_max': 0.026}],\n",
       "   'href': 'https://sentinel-cogs.s3.us-west-2.amazonaws.com/sentinel-s2-l2a-cogs/14/T/PP/2021/11/S2B_14TPP_20211123_0_L2A/B09.tif',\n",
       "   'proj:shape': [1830, 1830],\n",
       "   'proj:transform': [60, 0, 600000, 0, -60, 4900020, 0, 0, 1]},\n",
       "  'B11': {'title': 'Band 11 (swir16)',\n",
       "   'type': 'image/tiff; application=geotiff; profile=cloud-optimized',\n",
       "   'roles': ['data'],\n",
       "   'gsd': 20,\n",
       "   'eo:bands': [{'name': 'B11',\n",
       "     'common_name': 'swir16',\n",
       "     'center_wavelength': 1.6137,\n",
       "     'full_width_half_max': 0.143}],\n",
       "   'href': 'https://sentinel-cogs.s3.us-west-2.amazonaws.com/sentinel-s2-l2a-cogs/14/T/PP/2021/11/S2B_14TPP_20211123_0_L2A/B11.tif',\n",
       "   'proj:shape': [5490, 5490],\n",
       "   'proj:transform': [20, 0, 600000, 0, -20, 4900020, 0, 0, 1]},\n",
       "  'B12': {'title': 'Band 12 (swir22)',\n",
       "   'type': 'image/tiff; application=geotiff; profile=cloud-optimized',\n",
       "   'roles': ['data'],\n",
       "   'gsd': 20,\n",
       "   'eo:bands': [{'name': 'B12',\n",
       "     'common_name': 'swir22',\n",
       "     'center_wavelength': 2.22024,\n",
       "     'full_width_half_max': 0.242}],\n",
       "   'href': 'https://sentinel-cogs.s3.us-west-2.amazonaws.com/sentinel-s2-l2a-cogs/14/T/PP/2021/11/S2B_14TPP_20211123_0_L2A/B12.tif',\n",
       "   'proj:shape': [5490, 5490],\n",
       "   'proj:transform': [20, 0, 600000, 0, -20, 4900020, 0, 0, 1]},\n",
       "  'AOT': {'title': 'Aerosol Optical Thickness (AOT)',\n",
       "   'type': 'image/tiff; application=geotiff; profile=cloud-optimized',\n",
       "   'roles': ['data'],\n",
       "   'href': 'https://sentinel-cogs.s3.us-west-2.amazonaws.com/sentinel-s2-l2a-cogs/14/T/PP/2021/11/S2B_14TPP_20211123_0_L2A/AOT.tif',\n",
       "   'proj:shape': [1830, 1830],\n",
       "   'proj:transform': [60, 0, 600000, 0, -60, 4900020, 0, 0, 1]},\n",
       "  'WVP': {'title': 'Water Vapour (WVP)',\n",
       "   'type': 'image/tiff; application=geotiff; profile=cloud-optimized',\n",
       "   'roles': ['data'],\n",
       "   'href': 'https://sentinel-cogs.s3.us-west-2.amazonaws.com/sentinel-s2-l2a-cogs/14/T/PP/2021/11/S2B_14TPP_20211123_0_L2A/WVP.tif',\n",
       "   'proj:shape': [10980, 10980],\n",
       "   'proj:transform': [10, 0, 600000, 0, -10, 4900020, 0, 0, 1]},\n",
       "  'SCL': {'title': 'Scene Classification Map (SCL)',\n",
       "   'type': 'image/tiff; application=geotiff; profile=cloud-optimized',\n",
       "   'roles': ['data'],\n",
       "   'href': 'https://sentinel-cogs.s3.us-west-2.amazonaws.com/sentinel-s2-l2a-cogs/14/T/PP/2021/11/S2B_14TPP_20211123_0_L2A/SCL.tif',\n",
       "   'proj:shape': [5490, 5490],\n",
       "   'proj:transform': [20, 0, 600000, 0, -20, 4900020, 0, 0, 1]}},\n",
       " 'links': [{'rel': 'self',\n",
       "   'href': 'https://earth-search.aws.element84.com/v0/collections/sentinel-s2-l2a-cogs/items/S2B_14TPP_20211123_0_L2A'},\n",
       "  {'rel': 'canonical',\n",
       "   'href': 'https://sentinel-cogs.s3.us-west-2.amazonaws.com/sentinel-s2-l2a-cogs/14/T/PP/2021/11/S2B_14TPP_20211123_0_L2A/S2B_14TPP_20211123_0_L2A.json',\n",
       "   'type': 'application/json'},\n",
       "  {'title': 'sentinel-s2-l2a-aws/workflow-publish-sentinel/tiles-14-T-PP-2021-11-23-0',\n",
       "   'rel': 'via-cirrus',\n",
       "   'href': 'https://cirrus-earth-search.aws.element84.com/v0/catid/sentinel-s2-l2a-aws/workflow-publish-sentinel/tiles-14-T-PP-2021-11-23-0'},\n",
       "  {'title': 'Source STAC Item',\n",
       "   'rel': 'derived_from',\n",
       "   'href': 'https://cirrus-v0-data-1qm7gekzjucbq.s3.us-west-2.amazonaws.com/sentinel-s2-l2a/14/T/PP/2021/11/S2B_14TPP_20211123_0_L2A/S2B_14TPP_20211123_0_L2A.json',\n",
       "   'type': 'application/json'},\n",
       "  {'title': 'sentinel-s2-l2a/workflow-cog-archive/S2B_14TPP_20211123_0_L2A',\n",
       "   'rel': 'via-cirrus',\n",
       "   'href': 'https://cirrus-earth-search.aws.element84.com/v0/catid/sentinel-s2-l2a/workflow-cog-archive/S2B_14TPP_20211123_0_L2A'},\n",
       "  {'rel': 'parent',\n",
       "   'href': 'https://earth-search.aws.element84.com/v0/collections/sentinel-s2-l2a-cogs'},\n",
       "  {'rel': 'collection',\n",
       "   'href': 'https://earth-search.aws.element84.com/v0/collections/sentinel-s2-l2a-cogs'},\n",
       "  {'rel': 'root', 'href': 'https://earth-search.aws.element84.com/v0/'}]}"
      ]
     },
     "execution_count": 18,
     "metadata": {},
     "output_type": "execute_result"
    }
   ],
   "source": [
    "items[0]"
   ]
  },
  {
   "cell_type": "code",
   "execution_count": 19,
   "id": "93d46cfa",
   "metadata": {},
   "outputs": [
    {
     "data": {
      "text/plain": [
       "38"
      ]
     },
     "execution_count": 19,
     "metadata": {},
     "output_type": "execute_result"
    }
   ],
   "source": [
    "len(items)"
   ]
  },
  {
   "cell_type": "code",
   "execution_count": 9,
   "id": "f850bbb6",
   "metadata": {},
   "outputs": [
    {
     "ename": "NameError",
     "evalue": "name 'make_netcdf' is not defined",
     "output_type": "error",
     "traceback": [
      "\u001b[0;31m---------------------------------------------------------------------------\u001b[0m",
      "\u001b[0;31mNameError\u001b[0m                                 Traceback (most recent call last)",
      "\u001b[0;32m<timed eval>\u001b[0m in \u001b[0;36m<module>\u001b[0;34m\u001b[0m\n",
      "\u001b[0;31mNameError\u001b[0m: name 'make_netcdf' is not defined"
     ]
    }
   ],
   "source": [
    "%%time\n",
    "make_netcdf(aoi_filename)"
   ]
  },
  {
   "cell_type": "code",
   "execution_count": null,
   "id": "00e06765",
   "metadata": {},
   "outputs": [],
   "source": []
  },
  {
   "cell_type": "code",
   "execution_count": 10,
   "id": "bbb7c342",
   "metadata": {},
   "outputs": [],
   "source": [
    "#! conda install -y pystac-client"
   ]
  },
  {
   "cell_type": "code",
   "execution_count": 11,
   "id": "76f70d69",
   "metadata": {},
   "outputs": [
    {
     "name": "stdout",
     "output_type": "stream",
     "text": [
      "total 56K\r\n",
      "-rw-rw-r-- 1 ec2-user ec2-user  14K Dec  8 20:41 0_animation_stub.ipynb\r\n",
      "-rw-rw-r-- 1 ec2-user ec2-user 7.8K Dec  8 20:02 0_missing_pystac_client_0_3_0.ipynb\r\n",
      "-rw-rw-r-- 1 ec2-user ec2-user  528 Dec  8 20:02 anim_api.py\r\n",
      "-rw-rw-r-- 1 ec2-user ec2-user  166 Dec  8 20:02 Dockerfile\r\n",
      "-rw-rw-r-- 1 ec2-user ec2-user  214 Dec  8 20:02 Dockerfile.base\r\n",
      "-rw-rw-r-- 1 ec2-user ec2-user  243 Dec  8 20:07 Makefile\r\n",
      "drwxrwxr-x 3 ec2-user ec2-user   61 Dec  8 20:42 mylib\r\n",
      "-rw-rw-r-- 1 ec2-user ec2-user  659 Dec  8 20:02 pangeo_libs.yml\r\n",
      "-rw-rw-r-- 1 ec2-user ec2-user  327 Dec  8 20:02 phoenix.geojson\r\n",
      "-rw-rw-r-- 1 ec2-user ec2-user   65 Dec  8 20:02 Readme.md\r\n",
      "-rw-rw-r-- 1 ec2-user ec2-user  321 Dec  8 20:02 siouxfalls2.geojson\r\n"
     ]
    }
   ],
   "source": [
    "!ls -lh"
   ]
  },
  {
   "cell_type": "code",
   "execution_count": 12,
   "id": "a2061d0e",
   "metadata": {},
   "outputs": [
    {
     "ename": "NameError",
     "evalue": "name 'make_animation' is not defined",
     "output_type": "error",
     "traceback": [
      "\u001b[0;31m---------------------------------------------------------------------------\u001b[0m",
      "\u001b[0;31mNameError\u001b[0m                                 Traceback (most recent call last)",
      "\u001b[0;32m<timed exec>\u001b[0m in \u001b[0;36m<module>\u001b[0;34m\u001b[0m\n",
      "\u001b[0;31mNameError\u001b[0m: name 'make_animation' is not defined"
     ]
    }
   ],
   "source": [
    "%%time\n",
    "myname=aoi_filename.replace('.geojson','')\n",
    "make_animation(myname)"
   ]
  },
  {
   "cell_type": "code",
   "execution_count": 13,
   "id": "134edd31",
   "metadata": {},
   "outputs": [],
   "source": [
    "#! wget https://raw.githubusercontent.com/tonybutzer/data-curation/79323ea534ccce76bd8026454a013fb436395c6a/little-cloud/lib/notebookLib/notebookLib/nb_animate.py"
   ]
  },
  {
   "cell_type": "code",
   "execution_count": 14,
   "id": "25016892",
   "metadata": {},
   "outputs": [],
   "source": [
    "#! mv nb_animate.py ./lib\n"
   ]
  },
  {
   "cell_type": "code",
   "execution_count": 15,
   "id": "e498fdfd",
   "metadata": {},
   "outputs": [
    {
     "data": {
      "text/plain": [
       "'./siouxfalls2.gif'"
      ]
     },
     "execution_count": 15,
     "metadata": {},
     "output_type": "execute_result"
    }
   ],
   "source": [
    "mygif = f'{myname}.gif'\n",
    "mygif"
   ]
  },
  {
   "cell_type": "code",
   "execution_count": 16,
   "id": "dce6437f",
   "metadata": {},
   "outputs": [
    {
     "name": "stdout",
     "output_type": "stream",
     "text": [
      "0_animation_stub.ipynb\t\t     Dockerfile.base  phoenix.geojson\r\n",
      "0_missing_pystac_client_0_3_0.ipynb  Makefile\t      Readme.md\r\n",
      "anim_api.py\t\t\t     mylib\t      siouxfalls2.geojson\r\n",
      "Dockerfile\t\t\t     pangeo_libs.yml\r\n"
     ]
    }
   ],
   "source": [
    "!ls"
   ]
  },
  {
   "cell_type": "code",
   "execution_count": 17,
   "id": "b269c70f",
   "metadata": {},
   "outputs": [
    {
     "ename": "FileNotFoundError",
     "evalue": "[Errno 2] No such file or directory: './siouxfalls2.gif'",
     "output_type": "error",
     "traceback": [
      "\u001b[0;31m---------------------------------------------------------------------------\u001b[0m",
      "\u001b[0;31mFileNotFoundError\u001b[0m                         Traceback (most recent call last)",
      "\u001b[0;32m/tmp/ipykernel_12137/1517786619.py\u001b[0m in \u001b[0;36m<module>\u001b[0;34m\u001b[0m\n\u001b[1;32m      1\u001b[0m \u001b[0;32mfrom\u001b[0m \u001b[0mIPython\u001b[0m\u001b[0;34m.\u001b[0m\u001b[0mdisplay\u001b[0m \u001b[0;32mimport\u001b[0m \u001b[0mImage\u001b[0m\u001b[0;34m\u001b[0m\u001b[0;34m\u001b[0m\u001b[0m\n\u001b[0;32m----> 2\u001b[0;31m \u001b[0mImage\u001b[0m\u001b[0;34m(\u001b[0m\u001b[0mfilename\u001b[0m\u001b[0;34m=\u001b[0m\u001b[0mmygif\u001b[0m\u001b[0;34m)\u001b[0m\u001b[0;34m\u001b[0m\u001b[0;34m\u001b[0m\u001b[0m\n\u001b[0m",
      "\u001b[0;32m~/miniconda3/envs/cole/lib/python3.9/site-packages/IPython/core/display.py\u001b[0m in \u001b[0;36m__init__\u001b[0;34m(self, data, url, filename, format, embed, width, height, retina, unconfined, metadata)\u001b[0m\n\u001b[1;32m   1229\u001b[0m         \u001b[0mself\u001b[0m\u001b[0;34m.\u001b[0m\u001b[0mretina\u001b[0m \u001b[0;34m=\u001b[0m \u001b[0mretina\u001b[0m\u001b[0;34m\u001b[0m\u001b[0;34m\u001b[0m\u001b[0m\n\u001b[1;32m   1230\u001b[0m         \u001b[0mself\u001b[0m\u001b[0;34m.\u001b[0m\u001b[0munconfined\u001b[0m \u001b[0;34m=\u001b[0m \u001b[0munconfined\u001b[0m\u001b[0;34m\u001b[0m\u001b[0;34m\u001b[0m\u001b[0m\n\u001b[0;32m-> 1231\u001b[0;31m         super(Image, self).__init__(data=data, url=url, filename=filename, \n\u001b[0m\u001b[1;32m   1232\u001b[0m                 metadata=metadata)\n\u001b[1;32m   1233\u001b[0m \u001b[0;34m\u001b[0m\u001b[0m\n",
      "\u001b[0;32m~/miniconda3/envs/cole/lib/python3.9/site-packages/IPython/core/display.py\u001b[0m in \u001b[0;36m__init__\u001b[0;34m(self, data, url, filename, metadata)\u001b[0m\n\u001b[1;32m    635\u001b[0m             \u001b[0mself\u001b[0m\u001b[0;34m.\u001b[0m\u001b[0mmetadata\u001b[0m \u001b[0;34m=\u001b[0m \u001b[0;34m{\u001b[0m\u001b[0;34m}\u001b[0m\u001b[0;34m\u001b[0m\u001b[0;34m\u001b[0m\u001b[0m\n\u001b[1;32m    636\u001b[0m \u001b[0;34m\u001b[0m\u001b[0m\n\u001b[0;32m--> 637\u001b[0;31m         \u001b[0mself\u001b[0m\u001b[0;34m.\u001b[0m\u001b[0mreload\u001b[0m\u001b[0;34m(\u001b[0m\u001b[0;34m)\u001b[0m\u001b[0;34m\u001b[0m\u001b[0;34m\u001b[0m\u001b[0m\n\u001b[0m\u001b[1;32m    638\u001b[0m         \u001b[0mself\u001b[0m\u001b[0;34m.\u001b[0m\u001b[0m_check_data\u001b[0m\u001b[0;34m(\u001b[0m\u001b[0;34m)\u001b[0m\u001b[0;34m\u001b[0m\u001b[0;34m\u001b[0m\u001b[0m\n\u001b[1;32m    639\u001b[0m \u001b[0;34m\u001b[0m\u001b[0m\n",
      "\u001b[0;32m~/miniconda3/envs/cole/lib/python3.9/site-packages/IPython/core/display.py\u001b[0m in \u001b[0;36mreload\u001b[0;34m(self)\u001b[0m\n\u001b[1;32m   1261\u001b[0m         \u001b[0;34m\"\"\"Reload the raw data from file or URL.\"\"\"\u001b[0m\u001b[0;34m\u001b[0m\u001b[0;34m\u001b[0m\u001b[0m\n\u001b[1;32m   1262\u001b[0m         \u001b[0;32mif\u001b[0m \u001b[0mself\u001b[0m\u001b[0;34m.\u001b[0m\u001b[0membed\u001b[0m\u001b[0;34m:\u001b[0m\u001b[0;34m\u001b[0m\u001b[0;34m\u001b[0m\u001b[0m\n\u001b[0;32m-> 1263\u001b[0;31m             \u001b[0msuper\u001b[0m\u001b[0;34m(\u001b[0m\u001b[0mImage\u001b[0m\u001b[0;34m,\u001b[0m\u001b[0mself\u001b[0m\u001b[0;34m)\u001b[0m\u001b[0;34m.\u001b[0m\u001b[0mreload\u001b[0m\u001b[0;34m(\u001b[0m\u001b[0;34m)\u001b[0m\u001b[0;34m\u001b[0m\u001b[0;34m\u001b[0m\u001b[0m\n\u001b[0m\u001b[1;32m   1264\u001b[0m             \u001b[0;32mif\u001b[0m \u001b[0mself\u001b[0m\u001b[0;34m.\u001b[0m\u001b[0mretina\u001b[0m\u001b[0;34m:\u001b[0m\u001b[0;34m\u001b[0m\u001b[0;34m\u001b[0m\u001b[0m\n\u001b[1;32m   1265\u001b[0m                 \u001b[0mself\u001b[0m\u001b[0;34m.\u001b[0m\u001b[0m_retina_shape\u001b[0m\u001b[0;34m(\u001b[0m\u001b[0;34m)\u001b[0m\u001b[0;34m\u001b[0m\u001b[0;34m\u001b[0m\u001b[0m\n",
      "\u001b[0;32m~/miniconda3/envs/cole/lib/python3.9/site-packages/IPython/core/display.py\u001b[0m in \u001b[0;36mreload\u001b[0;34m(self)\u001b[0m\n\u001b[1;32m    660\u001b[0m         \u001b[0;34m\"\"\"Reload the raw data from file or URL.\"\"\"\u001b[0m\u001b[0;34m\u001b[0m\u001b[0;34m\u001b[0m\u001b[0m\n\u001b[1;32m    661\u001b[0m         \u001b[0;32mif\u001b[0m \u001b[0mself\u001b[0m\u001b[0;34m.\u001b[0m\u001b[0mfilename\u001b[0m \u001b[0;32mis\u001b[0m \u001b[0;32mnot\u001b[0m \u001b[0;32mNone\u001b[0m\u001b[0;34m:\u001b[0m\u001b[0;34m\u001b[0m\u001b[0;34m\u001b[0m\u001b[0m\n\u001b[0;32m--> 662\u001b[0;31m             \u001b[0;32mwith\u001b[0m \u001b[0mopen\u001b[0m\u001b[0;34m(\u001b[0m\u001b[0mself\u001b[0m\u001b[0;34m.\u001b[0m\u001b[0mfilename\u001b[0m\u001b[0;34m,\u001b[0m \u001b[0mself\u001b[0m\u001b[0;34m.\u001b[0m\u001b[0m_read_flags\u001b[0m\u001b[0;34m)\u001b[0m \u001b[0;32mas\u001b[0m \u001b[0mf\u001b[0m\u001b[0;34m:\u001b[0m\u001b[0;34m\u001b[0m\u001b[0;34m\u001b[0m\u001b[0m\n\u001b[0m\u001b[1;32m    663\u001b[0m                 \u001b[0mself\u001b[0m\u001b[0;34m.\u001b[0m\u001b[0mdata\u001b[0m \u001b[0;34m=\u001b[0m \u001b[0mf\u001b[0m\u001b[0;34m.\u001b[0m\u001b[0mread\u001b[0m\u001b[0;34m(\u001b[0m\u001b[0;34m)\u001b[0m\u001b[0;34m\u001b[0m\u001b[0;34m\u001b[0m\u001b[0m\n\u001b[1;32m    664\u001b[0m         \u001b[0;32melif\u001b[0m \u001b[0mself\u001b[0m\u001b[0;34m.\u001b[0m\u001b[0murl\u001b[0m \u001b[0;32mis\u001b[0m \u001b[0;32mnot\u001b[0m \u001b[0;32mNone\u001b[0m\u001b[0;34m:\u001b[0m\u001b[0;34m\u001b[0m\u001b[0;34m\u001b[0m\u001b[0m\n",
      "\u001b[0;31mFileNotFoundError\u001b[0m: [Errno 2] No such file or directory: './siouxfalls2.gif'"
     ]
    }
   ],
   "source": [
    "from IPython.display import Image\n",
    "Image(filename=mygif)"
   ]
  },
  {
   "cell_type": "code",
   "execution_count": null,
   "id": "79f70e48",
   "metadata": {},
   "outputs": [],
   "source": [
    "#! jupyter nbextension enable --py jupyter-resource-usage --sys-prefix"
   ]
  },
  {
   "cell_type": "code",
   "execution_count": null,
   "id": "9fe8da90",
   "metadata": {},
   "outputs": [],
   "source": [
    "#!conda install -y -c conda-forge jupyter-resource-usage"
   ]
  },
  {
   "cell_type": "code",
   "execution_count": null,
   "id": "2a9ac265",
   "metadata": {},
   "outputs": [],
   "source": [
    "! date"
   ]
  }
 ],
 "metadata": {
  "kernelspec": {
   "display_name": "Python 3 (ipykernel)",
   "language": "python",
   "name": "python3"
  },
  "language_info": {
   "codemirror_mode": {
    "name": "ipython",
    "version": 3
   },
   "file_extension": ".py",
   "mimetype": "text/x-python",
   "name": "python",
   "nbconvert_exporter": "python",
   "pygments_lexer": "ipython3",
   "version": "3.9.7"
  }
 },
 "nbformat": 4,
 "nbformat_minor": 5
}
