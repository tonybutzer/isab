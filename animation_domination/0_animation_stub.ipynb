{
 "cells": [
  {
   "cell_type": "code",
   "execution_count": 1,
   "id": "02a05ff7",
   "metadata": {},
   "outputs": [],
   "source": [
    "import sys\n",
    "\n",
    "sys.path.append('./mylib')\n",
    "\n",
    "from anim import *"
   ]
  },
  {
   "cell_type": "code",
   "execution_count": 2,
   "id": "0564307e",
   "metadata": {},
   "outputs": [],
   "source": [
    "aoi_filename = \"./siouxfalls2.geojson\"\n"
   ]
  },
  {
   "cell_type": "code",
   "execution_count": 3,
   "id": "47dc37f8",
   "metadata": {},
   "outputs": [],
   "source": [
    "#conda list fiona"
   ]
  },
  {
   "cell_type": "code",
   "execution_count": 4,
   "id": "71fd9fc9",
   "metadata": {},
   "outputs": [],
   "source": [
    "geom = make_geom(aoi_filename)"
   ]
  },
  {
   "cell_type": "code",
   "execution_count": 5,
   "id": "fde069c1",
   "metadata": {},
   "outputs": [
    {
     "data": {
      "text/plain": [
       "{'type': 'Polygon',\n",
       " 'coordinates': (((-96.84173583984374, 43.44045602777552),\n",
       "   (-96.62818908691406, 43.44045602777552),\n",
       "   (-96.62818908691406, 43.618182252818265),\n",
       "   (-96.84173583984374, 43.618182252818265),\n",
       "   (-96.84173583984374, 43.44045602777552)),)}"
      ]
     },
     "execution_count": 5,
     "metadata": {},
     "output_type": "execute_result"
    }
   ],
   "source": [
    "geom"
   ]
  },
  {
   "cell_type": "code",
   "execution_count": 6,
   "id": "9ca5f7cd",
   "metadata": {},
   "outputs": [
    {
     "ename": "ModuleNotFoundError",
     "evalue": "No module named 'pystac_client'",
     "output_type": "error",
     "traceback": [
      "\u001b[0;31m---------------------------------------------------------------------------\u001b[0m",
      "\u001b[0;31mModuleNotFoundError\u001b[0m                       Traceback (most recent call last)",
      "\u001b[0;32m/tmp/ipykernel_11901/2718714318.py\u001b[0m in \u001b[0;36m<module>\u001b[0;34m\u001b[0m\n\u001b[0;32m----> 1\u001b[0;31m \u001b[0;32mimport\u001b[0m \u001b[0mpystac_client\u001b[0m\u001b[0;34m\u001b[0m\u001b[0;34m\u001b[0m\u001b[0m\n\u001b[0m\u001b[1;32m      2\u001b[0m \u001b[0mpystac_client\u001b[0m\u001b[0;34m.\u001b[0m\u001b[0m__path__\u001b[0m\u001b[0;34m\u001b[0m\u001b[0;34m\u001b[0m\u001b[0m\n\u001b[1;32m      3\u001b[0m \u001b[0mpystac_client\u001b[0m\u001b[0;34m.\u001b[0m\u001b[0m__version__\u001b[0m\u001b[0;34m\u001b[0m\u001b[0;34m\u001b[0m\u001b[0m\n",
      "\u001b[0;31mModuleNotFoundError\u001b[0m: No module named 'pystac_client'"
     ]
    }
   ],
   "source": [
    "import pystac_client\n",
    "pystac_client.__path__\n",
    "pystac_client.__version__"
   ]
  },
  {
   "cell_type": "code",
   "execution_count": null,
   "id": "f850bbb6",
   "metadata": {},
   "outputs": [],
   "source": [
    "%%time\n",
    "make_netcdf(aoi_filename)"
   ]
  },
  {
   "cell_type": "code",
   "execution_count": null,
   "id": "00e06765",
   "metadata": {},
   "outputs": [],
   "source": []
  },
  {
   "cell_type": "code",
   "execution_count": null,
   "id": "bbb7c342",
   "metadata": {},
   "outputs": [],
   "source": [
    "#! conda install -y pystac-client"
   ]
  },
  {
   "cell_type": "code",
   "execution_count": null,
   "id": "76f70d69",
   "metadata": {},
   "outputs": [],
   "source": [
    "!ls -lh"
   ]
  },
  {
   "cell_type": "code",
   "execution_count": null,
   "id": "a2061d0e",
   "metadata": {},
   "outputs": [],
   "source": [
    "%%time\n",
    "myname=aoi_filename.replace('.geojson','')\n",
    "make_animation(myname)"
   ]
  },
  {
   "cell_type": "code",
   "execution_count": null,
   "id": "134edd31",
   "metadata": {},
   "outputs": [],
   "source": [
    "#! wget https://raw.githubusercontent.com/tonybutzer/data-curation/79323ea534ccce76bd8026454a013fb436395c6a/little-cloud/lib/notebookLib/notebookLib/nb_animate.py"
   ]
  },
  {
   "cell_type": "code",
   "execution_count": null,
   "id": "25016892",
   "metadata": {},
   "outputs": [],
   "source": [
    "#! mv nb_animate.py ./lib\n"
   ]
  },
  {
   "cell_type": "code",
   "execution_count": null,
   "id": "e498fdfd",
   "metadata": {},
   "outputs": [],
   "source": [
    "mygif = f'{myname}.gif'\n",
    "mygif"
   ]
  },
  {
   "cell_type": "code",
   "execution_count": null,
   "id": "dce6437f",
   "metadata": {},
   "outputs": [],
   "source": [
    "!ls"
   ]
  },
  {
   "cell_type": "code",
   "execution_count": null,
   "id": "b269c70f",
   "metadata": {},
   "outputs": [],
   "source": [
    "from IPython.display import Image\n",
    "Image(filename=mygif)"
   ]
  },
  {
   "cell_type": "code",
   "execution_count": null,
   "id": "79f70e48",
   "metadata": {},
   "outputs": [],
   "source": [
    "#! jupyter nbextension enable --py jupyter-resource-usage --sys-prefix"
   ]
  },
  {
   "cell_type": "code",
   "execution_count": null,
   "id": "9fe8da90",
   "metadata": {},
   "outputs": [],
   "source": [
    "#!conda install -y -c conda-forge jupyter-resource-usage"
   ]
  },
  {
   "cell_type": "code",
   "execution_count": null,
   "id": "2a9ac265",
   "metadata": {},
   "outputs": [],
   "source": [
    "! date"
   ]
  }
 ],
 "metadata": {
  "kernelspec": {
   "display_name": "Python 3 (ipykernel)",
   "language": "python",
   "name": "python3"
  },
  "language_info": {
   "codemirror_mode": {
    "name": "ipython",
    "version": 3
   },
   "file_extension": ".py",
   "mimetype": "text/x-python",
   "name": "python",
   "nbconvert_exporter": "python",
   "pygments_lexer": "ipython3",
   "version": "3.9.7"
  }
 },
 "nbformat": 4,
 "nbformat_minor": 5
}
