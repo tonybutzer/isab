{
 "cells": [
  {
   "cell_type": "code",
   "execution_count": 1,
   "id": "02a05ff7",
   "metadata": {},
   "outputs": [],
   "source": [
    "import sys\n",
    "\n",
    "sys.path.append('./mylib')\n",
    "\n",
    "from anim import *"
   ]
  },
  {
   "cell_type": "code",
   "execution_count": 2,
   "id": "8482eb93",
   "metadata": {},
   "outputs": [],
   "source": [
    "#conda list fiona"
   ]
  },
  {
   "cell_type": "code",
   "execution_count": 3,
   "id": "08c2c342",
   "metadata": {},
   "outputs": [
    {
     "data": {
      "text/plain": [
       "'0.3.0'"
      ]
     },
     "execution_count": 3,
     "metadata": {},
     "output_type": "execute_result"
    }
   ],
   "source": [
    "import pystac_client\n",
    "pystac_client.__path__\n",
    "pystac_client.__version__"
   ]
  },
  {
   "cell_type": "code",
   "execution_count": 4,
   "id": "687769a9",
   "metadata": {},
   "outputs": [],
   "source": [
    "\n",
    "def make_netcdf(aoi_filename_geojson, nc_filename):\n",
    "    geom = make_geom(aoi_filename_geojson)\n",
    "    items = get_stac_records(geom)\n",
    "    ds = dc(geom,items)\n",
    "    nc_from_ds(ds, nc_filename)"
   ]
  },
  {
   "cell_type": "code",
   "execution_count": null,
   "id": "f850bbb6",
   "metadata": {},
   "outputs": [
    {
     "name": "stdout",
     "output_type": "stream",
     "text": [
      "69 scenes found\n",
      "100\n",
      "100\n",
      "100\n",
      "100\n",
      "100\n",
      "100\n",
      "100\n",
      "100\n",
      "100\n",
      "100\n",
      "100\n",
      "100\n",
      "100\n",
      "100\n",
      "100\n",
      "100\n",
      "100\n",
      "100\n",
      "100\n",
      "100\n",
      "100\n",
      "100\n",
      "100\n",
      "100\n",
      "100\n",
      "100\n",
      "100\n",
      "100\n",
      "100\n",
      "96.17\n",
      "100\n",
      "100\n",
      "100\n",
      "100\n",
      "100\n",
      "100\n",
      "100\n",
      "100\n"
     ]
    }
   ],
   "source": [
    "%%time\n",
    "aoi_filename_geojson = \"./siouxfalls2.geojson\"\n",
    "nc_filename = \"./siouxfalls2.nc\"\n",
    "make_netcdf(aoi_filename_geojson, nc_filename)"
   ]
  },
  {
   "cell_type": "code",
   "execution_count": null,
   "id": "00e06765",
   "metadata": {},
   "outputs": [],
   "source": [
    "gif_filename = nc_filename.replace('.nc','.gif')\n",
    "make_animated_gif(nc_filename, gif_filename)"
   ]
  },
  {
   "cell_type": "code",
   "execution_count": null,
   "id": "bbb7c342",
   "metadata": {},
   "outputs": [],
   "source": [
    "#! conda install -y pystac-client"
   ]
  },
  {
   "cell_type": "code",
   "execution_count": null,
   "id": "76f70d69",
   "metadata": {},
   "outputs": [],
   "source": [
    "!ls -lh"
   ]
  },
  {
   "cell_type": "code",
   "execution_count": null,
   "id": "134edd31",
   "metadata": {},
   "outputs": [],
   "source": [
    "#! wget https://raw.githubusercontent.com/tonybutzer/data-curation/79323ea534ccce76bd8026454a013fb436395c6a/little-cloud/lib/notebookLib/notebookLib/nb_animate.py"
   ]
  },
  {
   "cell_type": "code",
   "execution_count": null,
   "id": "25016892",
   "metadata": {},
   "outputs": [],
   "source": [
    "#! mv nb_animate.py ./lib\n"
   ]
  },
  {
   "cell_type": "code",
   "execution_count": null,
   "id": "e498fdfd",
   "metadata": {},
   "outputs": [],
   "source": [
    "mygif = gif_name\n",
    "mygif"
   ]
  },
  {
   "cell_type": "code",
   "execution_count": null,
   "id": "dce6437f",
   "metadata": {},
   "outputs": [],
   "source": [
    "!ls"
   ]
  },
  {
   "cell_type": "code",
   "execution_count": null,
   "id": "b269c70f",
   "metadata": {},
   "outputs": [],
   "source": [
    "from IPython.display import Image\n",
    "Image(filename=mygif)"
   ]
  },
  {
   "cell_type": "code",
   "execution_count": null,
   "id": "79f70e48",
   "metadata": {},
   "outputs": [],
   "source": [
    "#! jupyter nbextension enable --py jupyter-resource-usage --sys-prefix"
   ]
  },
  {
   "cell_type": "code",
   "execution_count": null,
   "id": "9fe8da90",
   "metadata": {},
   "outputs": [],
   "source": [
    "#!conda install -y -c conda-forge jupyter-resource-usage"
   ]
  },
  {
   "cell_type": "code",
   "execution_count": null,
   "id": "2a9ac265",
   "metadata": {},
   "outputs": [],
   "source": [
    "! date"
   ]
  }
 ],
 "metadata": {
  "kernelspec": {
   "display_name": "Python 3 (ipykernel)",
   "language": "python",
   "name": "python3"
  },
  "language_info": {
   "codemirror_mode": {
    "name": "ipython",
    "version": 3
   },
   "file_extension": ".py",
   "mimetype": "text/x-python",
   "name": "python",
   "nbconvert_exporter": "python",
   "pygments_lexer": "ipython3",
   "version": "3.9.7"
  }
 },
 "nbformat": 4,
 "nbformat_minor": 5
}
