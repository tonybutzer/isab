{
 "cells": [
  {
   "cell_type": "code",
   "execution_count": 1,
   "id": "782f6295",
   "metadata": {},
   "outputs": [],
   "source": [
    "from pystac_client import Client"
   ]
  },
  {
   "cell_type": "code",
   "execution_count": 2,
   "id": "eba28878",
   "metadata": {},
   "outputs": [
    {
     "data": {
      "text/plain": [
       "'A Client for interacting with the root of a STAC Catalog or API\\n\\n    Instances of the ``Client`` class inherit from :class:`pystac.Catalog` and provide a convenient way of interacting\\n    with STAC Catalogs OR STAC APIs that conform to the `STAC API spec <https://github.com/radiantearth/stac-api-spec>`_.\\n    In addition to being a valid\\n    `STAC Catalog <https://github.com/radiantearth/stac-spec/blob/master/catalog-spec/catalog-spec.md>`_\\n    APIs that have a ``\"conformsTo\"`` indicate that it supports additional functionality on top of a normal STAC Catalog,\\n    such as searching items (e.g., /search endpoint).\\n    '"
      ]
     },
     "execution_count": 2,
     "metadata": {},
     "output_type": "execute_result"
    }
   ],
   "source": [
    "Client.__doc__"
   ]
  },
  {
   "cell_type": "code",
   "execution_count": 3,
   "id": "a8618670",
   "metadata": {},
   "outputs": [
    {
     "data": {
      "text/plain": [
       "'pystac_client.client'"
      ]
     },
     "execution_count": 3,
     "metadata": {},
     "output_type": "execute_result"
    }
   ],
   "source": [
    "Client.__module__"
   ]
  },
  {
   "cell_type": "code",
   "execution_count": 4,
   "id": "5a18237d",
   "metadata": {},
   "outputs": [
    {
     "data": {
      "text/plain": [
       "['DEFAULT_FILE_NAME',\n",
       " 'STAC_OBJECT_TYPE',\n",
       " '__abstractmethods__',\n",
       " '__annotations__',\n",
       " '__class__',\n",
       " '__delattr__',\n",
       " '__dict__',\n",
       " '__dir__',\n",
       " '__doc__',\n",
       " '__eq__',\n",
       " '__format__',\n",
       " '__ge__',\n",
       " '__getattribute__',\n",
       " '__gt__',\n",
       " '__hash__',\n",
       " '__init__',\n",
       " '__init_subclass__',\n",
       " '__le__',\n",
       " '__lt__',\n",
       " '__module__',\n",
       " '__ne__',\n",
       " '__new__',\n",
       " '__reduce__',\n",
       " '__reduce_ex__',\n",
       " '__repr__',\n",
       " '__setattr__',\n",
       " '__sizeof__',\n",
       " '__slots__',\n",
       " '__str__',\n",
       " '__subclasshook__',\n",
       " '__weakref__',\n",
       " '_abc_impl',\n",
       " '_object_links',\n",
       " '_stac_io',\n",
       " 'add_child',\n",
       " 'add_children',\n",
       " 'add_item',\n",
       " 'add_items',\n",
       " 'add_link',\n",
       " 'add_links',\n",
       " 'clear_children',\n",
       " 'clear_items',\n",
       " 'clear_links',\n",
       " 'clone',\n",
       " 'describe',\n",
       " 'from_dict',\n",
       " 'from_file',\n",
       " 'full_copy',\n",
       " 'generate_subcatalogs',\n",
       " 'get_all_collections',\n",
       " 'get_all_items',\n",
       " 'get_child',\n",
       " 'get_child_links',\n",
       " 'get_children',\n",
       " 'get_collection',\n",
       " 'get_collections',\n",
       " 'get_item',\n",
       " 'get_item_links',\n",
       " 'get_items',\n",
       " 'get_links',\n",
       " 'get_parent',\n",
       " 'get_root',\n",
       " 'get_root_link',\n",
       " 'get_self_href',\n",
       " 'get_single_link',\n",
       " 'get_stac_objects',\n",
       " 'is_relative',\n",
       " 'make_all_asset_hrefs_absolute',\n",
       " 'make_all_asset_hrefs_relative',\n",
       " 'map_assets',\n",
       " 'map_items',\n",
       " 'matches_object_type',\n",
       " 'normalize_and_save',\n",
       " 'normalize_hrefs',\n",
       " 'open',\n",
       " 'remove_child',\n",
       " 'remove_item',\n",
       " 'remove_links',\n",
       " 'resolve_links',\n",
       " 'save',\n",
       " 'save_object',\n",
       " 'search',\n",
       " 'self_href',\n",
       " 'set_parent',\n",
       " 'set_root',\n",
       " 'set_self_href',\n",
       " 'to_dict',\n",
       " 'validate',\n",
       " 'validate_all',\n",
       " 'walk']"
      ]
     },
     "execution_count": 4,
     "metadata": {},
     "output_type": "execute_result"
    }
   ],
   "source": [
    "dir (Client)"
   ]
  },
  {
   "cell_type": "code",
   "execution_count": 12,
   "id": "11bd87d8",
   "metadata": {},
   "outputs": [
    {
     "data": {
      "text/plain": [
       "'pystac_client.client'"
      ]
     },
     "execution_count": 12,
     "metadata": {},
     "output_type": "execute_result"
    }
   ],
   "source": [
    "Client.__module__"
   ]
  },
  {
   "cell_type": "code",
   "execution_count": 15,
   "id": "e4261a3f",
   "metadata": {},
   "outputs": [
    {
     "data": {
      "text/plain": [
       "['/home/ec2-user/miniconda3/envs/cole/lib/python3.9/site-packages/pystac_client']"
      ]
     },
     "execution_count": 15,
     "metadata": {},
     "output_type": "execute_result"
    }
   ],
   "source": [
    "import pystac_client\n",
    "pystac_client.__path__"
   ]
  },
  {
   "cell_type": "code",
   "execution_count": 16,
   "id": "0852b766",
   "metadata": {},
   "outputs": [
    {
     "data": {
      "text/plain": [
       "'0.3.1'"
      ]
     },
     "execution_count": 16,
     "metadata": {},
     "output_type": "execute_result"
    }
   ],
   "source": [
    "pystac_client.__version__"
   ]
  },
  {
   "cell_type": "code",
   "execution_count": 17,
   "id": "149d3c92",
   "metadata": {},
   "outputs": [
    {
     "name": "stdout",
     "output_type": "stream",
     "text": [
      "Collecting package metadata (current_repodata.json): done\n",
      "Solving environment: failed with initial frozen solve. Retrying with flexible solve.\n",
      "Collecting package metadata (repodata.json): done\n",
      "Solving environment: done\n",
      "\n",
      "## Package Plan ##\n",
      "\n",
      "  environment location: /home/ec2-user/miniconda3/envs/cole\n",
      "\n",
      "  added / updated specs:\n",
      "    - pystac-client==0.3.0\n",
      "\n",
      "\n",
      "The following packages will be downloaded:\n",
      "\n",
      "    package                    |            build\n",
      "    ---------------------------|-----------------\n",
      "    pystac-1.1.0               |     pyhd8ed1ab_0         121 KB  conda-forge\n",
      "    pystac-client-0.3.0        |     pyhd8ed1ab_0          24 KB  conda-forge\n",
      "    ------------------------------------------------------------\n",
      "                                           Total:         145 KB\n",
      "\n",
      "The following packages will be DOWNGRADED:\n",
      "\n",
      "  pystac                                 1.2.0-pyhd8ed1ab_0 --> 1.1.0-pyhd8ed1ab_0\n",
      "  pystac-client                          0.3.1-pyhd8ed1ab_0 --> 0.3.0-pyhd8ed1ab_0\n",
      "\n",
      "\n",
      "\n",
      "Downloading and Extracting Packages\n",
      "pystac-client-0.3.0  | 24 KB     | ##################################### | 100% \n",
      "pystac-1.1.0         | 121 KB    | ##################################### | 100% \n",
      "Preparing transaction: done\n",
      "Verifying transaction: done\n",
      "Executing transaction: done\n"
     ]
    }
   ],
   "source": [
    "!conda install -y pystac-client==0.3.0"
   ]
  },
  {
   "cell_type": "code",
   "execution_count": null,
   "id": "9dd560a5",
   "metadata": {},
   "outputs": [],
   "source": []
  }
 ],
 "metadata": {
  "kernelspec": {
   "display_name": "Python 3 (ipykernel)",
   "language": "python",
   "name": "python3"
  },
  "language_info": {
   "codemirror_mode": {
    "name": "ipython",
    "version": 3
   },
   "file_extension": ".py",
   "mimetype": "text/x-python",
   "name": "python",
   "nbconvert_exporter": "python",
   "pygments_lexer": "ipython3",
   "version": "3.9.7"
  }
 },
 "nbformat": 4,
 "nbformat_minor": 5
}
